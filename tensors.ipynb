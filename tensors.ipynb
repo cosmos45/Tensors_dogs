{
 "cells": [
  {
   "metadata": {
    "ExecuteTime": {
     "end_time": "2024-08-23T10:04:59.292019Z",
     "start_time": "2024-08-23T10:04:58.142301Z"
    }
   },
   "cell_type": "code",
   "source": [
    "import torch\n",
    "import torch.nn as nn\n",
    "import torch.optim as optim\n",
    "from torch.optim import lr_scheduler\n",
    "import torch.backends.cudnn as cudnn\n",
    "from torch.utils.data import Dataset, DataLoader\n",
    "from torchvision.transforms import ToTensor, Compose, Resize, Normalize\n",
    "from torchvision import models\n",
    "import matplotlib.pyplot as plt\n",
    "import os\n",
    "from glob import glob\n",
    "import pandas as pd\n",
    "from PIL import Image\n",
    "from sklearn.model_selection import train_test_split\n",
    "from sklearn.utils import shuffle\n",
    "import requests\n",
    "import tarfile\n",
    "from sklearn.preprocessing import LabelEncoder"
   ],
   "outputs": [],
   "execution_count": 3
  },
  {
   "metadata": {
    "ExecuteTime": {
     "end_time": "2024-08-23T10:07:16.854040Z",
     "start_time": "2024-08-23T10:07:16.843930Z"
    }
   },
   "cell_type": "code",
   "source": "ROOT_FOLDER = os.getcwd()",
   "outputs": [],
   "execution_count": 4
  },
  {
   "metadata": {
    "ExecuteTime": {
     "end_time": "2024-08-23T10:45:10.514143Z",
     "start_time": "2024-08-23T10:45:10.510318Z"
    }
   },
   "cell_type": "code",
   "source": "print(ROOT_FOLDER)",
   "outputs": [
    {
     "name": "stdout",
     "output_type": "stream",
     "text": [
      "C:\\Users\\zende\\Jupyter\n"
     ]
    }
   ],
   "execution_count": 6
  },
  {
   "metadata": {
    "ExecuteTime": {
     "end_time": "2024-08-23T11:17:03.086111Z",
     "start_time": "2024-08-23T11:17:03.070478Z"
    }
   },
   "cell_type": "code",
   "source": [
    "#train and test and val split\n",
    "class DatasetSplitter:\n",
    "    def __init__(self) -> None:\n",
    "        data_path = os.path.join(ROOT_FOLDER, 'data', 'Stanford_dogs', 'Images')\n",
    "        print(data_path)\n",
    "        self.list_of_images = glob(os.path.join(data_path, '*', '*.jpg'))\n",
    "        \n",
    "        self.data_dict = {\n",
    "            \"image_paths\": [],\n",
    "            \"labels\" : []\n",
    "        }\n",
    "        \n",
    "        self.data_df = None\n",
    "        self.__prepare_dataset()\n",
    "        \n",
    "    def __prepare_dataset(self):\n",
    "        \n",
    "        for image_path in self.list_of_images:\n",
    "            label = image_path.split(os.path.sep)[-2].split('-')[-1]\n",
    "            self.data_dict['image_paths'].append(image_path)\n",
    "            self.data_dict['labels'].append(label)\n",
    "            \n",
    "        self.data_df = pd.DataFrame(self.data_dict)\n",
    "        # Shuffle the dataset\n",
    "        self.data_df = (self.data_df.sample(frac=1, random_state=42).reset_index()).drop(columns=\"index\")\n",
    "        # encode the labels\n",
    "        \n",
    "        label_encoder = LabelEncoder()\n",
    "        label_transformer = label_encoder.fit(self.data_df.labels.to_list())\n",
    "        self.data_df['converted_labels'] = self.data_df.apply(lambda row: label_transformer.transform([row.labels])[0], axis=1)\n",
    "        "
   ],
   "outputs": [],
   "execution_count": 25
  },
  {
   "metadata": {
    "ExecuteTime": {
     "end_time": "2024-08-23T11:10:27.238098Z",
     "start_time": "2024-08-23T11:10:27.107361Z"
    }
   },
   "cell_type": "code",
   "source": "dataset_splitter = DatasetSplitter()",
   "outputs": [
    {
     "name": "stdout",
     "output_type": "stream",
     "text": [
      "C:\\Users\\zende\\Jupyter\\data\\Stanford_dogs\\Images\n"
     ]
    }
   ],
   "execution_count": 22
  },
  {
   "metadata": {
    "ExecuteTime": {
     "end_time": "2024-08-23T11:10:56.390210Z",
     "start_time": "2024-08-23T11:10:56.346457Z"
    }
   },
   "cell_type": "code",
   "source": "dataset_splitter.data_df.head()",
   "outputs": [
    {
     "data": {
      "text/plain": [
       "                                         image_paths     labels\n",
       "0  C:\\Users\\zende\\Jupyter\\data\\Stanford_dogs\\Imag...  Chihuahua\n",
       "1  C:\\Users\\zende\\Jupyter\\data\\Stanford_dogs\\Imag...  Chihuahua\n",
       "2  C:\\Users\\zende\\Jupyter\\data\\Stanford_dogs\\Imag...  Chihuahua\n",
       "3  C:\\Users\\zende\\Jupyter\\data\\Stanford_dogs\\Imag...  Chihuahua\n",
       "4  C:\\Users\\zende\\Jupyter\\data\\Stanford_dogs\\Imag...  Chihuahua"
      ],
      "text/html": [
       "<div>\n",
       "<style scoped>\n",
       "    .dataframe tbody tr th:only-of-type {\n",
       "        vertical-align: middle;\n",
       "    }\n",
       "\n",
       "    .dataframe tbody tr th {\n",
       "        vertical-align: top;\n",
       "    }\n",
       "\n",
       "    .dataframe thead th {\n",
       "        text-align: right;\n",
       "    }\n",
       "</style>\n",
       "<table border=\"1\" class=\"dataframe\">\n",
       "  <thead>\n",
       "    <tr style=\"text-align: right;\">\n",
       "      <th></th>\n",
       "      <th>image_paths</th>\n",
       "      <th>labels</th>\n",
       "    </tr>\n",
       "  </thead>\n",
       "  <tbody>\n",
       "    <tr>\n",
       "      <th>0</th>\n",
       "      <td>C:\\Users\\zende\\Jupyter\\data\\Stanford_dogs\\Imag...</td>\n",
       "      <td>Chihuahua</td>\n",
       "    </tr>\n",
       "    <tr>\n",
       "      <th>1</th>\n",
       "      <td>C:\\Users\\zende\\Jupyter\\data\\Stanford_dogs\\Imag...</td>\n",
       "      <td>Chihuahua</td>\n",
       "    </tr>\n",
       "    <tr>\n",
       "      <th>2</th>\n",
       "      <td>C:\\Users\\zende\\Jupyter\\data\\Stanford_dogs\\Imag...</td>\n",
       "      <td>Chihuahua</td>\n",
       "    </tr>\n",
       "    <tr>\n",
       "      <th>3</th>\n",
       "      <td>C:\\Users\\zende\\Jupyter\\data\\Stanford_dogs\\Imag...</td>\n",
       "      <td>Chihuahua</td>\n",
       "    </tr>\n",
       "    <tr>\n",
       "      <th>4</th>\n",
       "      <td>C:\\Users\\zende\\Jupyter\\data\\Stanford_dogs\\Imag...</td>\n",
       "      <td>Chihuahua</td>\n",
       "    </tr>\n",
       "  </tbody>\n",
       "</table>\n",
       "</div>"
      ]
     },
     "execution_count": 24,
     "metadata": {},
     "output_type": "execute_result"
    }
   ],
   "execution_count": 24
  },
  {
   "metadata": {
    "ExecuteTime": {
     "end_time": "2024-08-23T11:02:56.554837Z",
     "start_time": "2024-08-23T11:02:56.542836Z"
    }
   },
   "cell_type": "code",
   "source": "image_file_path = dataset_splitter.list_of_images[0]",
   "outputs": [],
   "execution_count": 11
  },
  {
   "metadata": {
    "ExecuteTime": {
     "end_time": "2024-08-23T11:03:14.238202Z",
     "start_time": "2024-08-23T11:03:14.206984Z"
    }
   },
   "cell_type": "code",
   "source": "image_file_path",
   "outputs": [
    {
     "data": {
      "text/plain": [
       "'C:\\\\Users\\\\zende\\\\Jupyter\\\\data\\\\Stanford_dogs\\\\Images\\\\n02085620-Chihuahua\\\\n02085620_10074.jpg'"
      ]
     },
     "execution_count": 12,
     "metadata": {},
     "output_type": "execute_result"
    }
   ],
   "execution_count": 12
  },
  {
   "metadata": {
    "ExecuteTime": {
     "end_time": "2024-08-23T11:05:36.755412Z",
     "start_time": "2024-08-23T11:05:36.748333Z"
    }
   },
   "cell_type": "code",
   "source": "image_file_path.split(os.path.sep)[-2].split('-')[-1]",
   "outputs": [
    {
     "data": {
      "text/plain": [
       "'Chihuahua'"
      ]
     },
     "execution_count": 18,
     "metadata": {},
     "output_type": "execute_result"
    }
   ],
   "execution_count": 18
  },
  {
   "metadata": {},
   "cell_type": "code",
   "outputs": [],
   "execution_count": null,
   "source": ""
  },
  {
   "metadata": {},
   "cell_type": "code",
   "outputs": [],
   "execution_count": null,
   "source": ""
  }
 ],
 "metadata": {
  "language_info": {
   "name": "python"
  },
  "kernelspec": {
   "name": "python3",
   "language": "python",
   "display_name": "Python 3 (ipykernel)"
  }
 },
 "nbformat": 4,
 "nbformat_minor": 2
}
